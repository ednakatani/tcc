{
  "cells": [
    {
      "attachments": {},
      "cell_type": "markdown",
      "metadata": {},
      "source": [
        "**Pontifícia Universidade Católica do Paraná**\n",
        "\n",
        "**Bacharelado em Ciência da Computação**\n",
        "\n",
        "**Trabalho de Conclusão de Curso**\n",
        "\n",
        "Eduardo Klein Nakatani"
      ]
    },
    {
      "attachments": {},
      "cell_type": "markdown",
      "metadata": {},
      "source": [
        "## K-Nearest Neighbors (KNN)\n",
        "\n",
        "KNN é um algoritmo de aprendizado supervisionado. Onde os dados são 'treinados' com pontos de dados correspondentes à sua classificação. Uma vez que um ponto deve ser previsto, ele leva em consideração os pontos 'K' mais próximos para determinar sua classificação."
      ]
    },
    {
      "attachments": {},
      "cell_type": "markdown",
      "metadata": {},
      "source": [
        "## Bibliotecas e funções\n",
        "Nessa seção são importadas as bibliotecas e funções que serão utilizadas no decorrer do trabalho."
      ]
    },
    {
      "cell_type": "code",
      "execution_count": 17,
      "metadata": {
        "id": "SmS-tOd6u9fO"
      },
      "outputs": [],
      "source": [
        "# Importa bibliotecas necessárias \n",
        "import numpy as np\n",
        "import pandas as pd\n",
        "from sklearn.neighbors import KNeighborsClassifier\n",
        "from sklearn.metrics import confusion_matrix, precision_score, recall_score, f1_score\n",
        "from sklearn.datasets import load_digits"
      ]
    },
    {
      "cell_type": "code",
      "execution_count": 37,
      "metadata": {},
      "outputs": [],
      "source": [
        "# define algoritmos de avaliação dos resultados\n",
        "def evaluate(y_test, y_pred):\n",
        "  return f1_score(y_test, y_pred), precision_score(y_test, y_pred), recall_score(y_test, y_pred)"
      ]
    },
    {
      "attachments": {},
      "cell_type": "markdown",
      "metadata": {},
      "source": [
        "## Base de dados\n",
        "\n",
        "Nessa seção é feita a importação da base de dados que será utilizada."
      ]
    },
    {
      "cell_type": "code",
      "execution_count": 19,
      "metadata": {},
      "outputs": [],
      "source": [
        "## Carrega os dados do arquivo excel \n",
        "df = pd.read_excel('../Exploratory data analysis/data/dataset.xlsx')\n",
        "\n",
        "## Remove as colunas vazias\n",
        "df.dropna(axis=1, how='all', inplace=True)\n",
        "\n",
        "## empty values to NaN\n",
        "#df.replace('NaN', np.nan, inplace=True)"
      ]
    },
    {
      "attachments": {},
      "cell_type": "markdown",
      "metadata": {},
      "source": [
        "#### Segmentação das colunas\n",
        "\n",
        "Nessa seção somente as colunas relacionadas a dados obtidos sem a necessidade de apoio médico ou de equipamentos serão utilizadas. As colunas utilizadas são:\n",
        "* Idade\n",
        "* Duração do Fluxo Urinário\n",
        "* IPSS Score\n",
        "* Alterado (indicativo)"
      ]
    },
    {
      "cell_type": "code",
      "execution_count": 20,
      "metadata": {},
      "outputs": [],
      "source": [
        "include = [ 'IDADE', 'Duração F','IPSS SCORE TOTAL','Alterado (Q max)']\n",
        "df = df[include]"
      ]
    },
    {
      "cell_type": "code",
      "execution_count": 21,
      "metadata": {},
      "outputs": [],
      "source": [
        "## Divisão dos dados entre valores de entrada e saída\n",
        "X = df.iloc[:, :-1]\n",
        "y = df.iloc[:, -1]\n",
        "\n",
        "X = np.nan_to_num(X)\n",
        "y = np.nan_to_num(y)"
      ]
    },
    {
      "attachments": {},
      "cell_type": "markdown",
      "metadata": {},
      "source": [
        "### MinMax Scaler\n",
        "\n",
        "Nessa seção é feita a normalização dos dados utilizando o MinMax Scaler, mantendo-os entre 0 e 1."
      ]
    },
    {
      "cell_type": "code",
      "execution_count": 22,
      "metadata": {},
      "outputs": [],
      "source": [
        "from sklearn.preprocessing import MinMaxScaler\n",
        "\n",
        "scaler = MinMaxScaler()\n",
        "X = scaler.fit_transform(X)"
      ]
    },
    {
      "cell_type": "code",
      "execution_count": 23,
      "metadata": {
        "colab": {
          "base_uri": "https://localhost:8080/"
        },
        "id": "ypO-BKeSWlhU",
        "outputId": "e169e9b4-b521-434b-bf73-49d7ac8710eb"
      },
      "outputs": [
        {
          "name": "stdout",
          "output_type": "stream",
          "text": [
            "Formato de X:  (37, 3)\n",
            "Formato de y:  (37,)\n"
          ]
        }
      ],
      "source": [
        "# Neste exemplo a base de dados digits é composto por 1.797 instâncias (N=1.797), imagens de tamanho 8x8\n",
        "# e cada instância é representada por um vetor de 64 atributos (M=64), sendo que cada atributo pode ter um valor entre 0 e 16 (valor do pixel)\n",
        "\n",
        "#X, y = load_digits(return_X_y=True)\n",
        "print(\"Formato de X: \", X.shape)\n",
        "print(\"Formato de y: \", y.shape)\n",
        "\n"
      ]
    },
    {
      "attachments": {},
      "cell_type": "markdown",
      "metadata": {},
      "source": [
        "### Divisão dos dados\n",
        "\n",
        "Nessa seção os dados são divididos em dados de treino e dados de teste."
      ]
    },
    {
      "cell_type": "code",
      "execution_count": 24,
      "metadata": {
        "colab": {
          "base_uri": "https://localhost:8080/"
        },
        "id": "JDezcCgLZ5d4",
        "outputId": "4361f2cf-8032-4a97-8c37-2793b7338f93"
      },
      "outputs": [
        {
          "name": "stdout",
          "output_type": "stream",
          "text": [
            "Formato de X_train:  (25, 3)\n",
            "Formato de y_train:  (25,)\n",
            "Formato de X_test:  (12, 3)\n",
            "Formato de y_test:  (12,)\n"
          ]
        }
      ],
      "source": [
        "from sklearn.model_selection import train_test_split\n",
        "X_train, X_test, y_train, y_test = train_test_split(X, y, test_size=0.3, random_state=42)\n",
        "\n",
        "print(\"Formato de X_train: \", X_train.shape)\n",
        "print(\"Formato de y_train: \", y_train.shape)\n",
        "\n",
        "print(\"Formato de X_test: \", X_test.shape)\n",
        "print(\"Formato de y_test: \", y_test.shape)\n",
        "\n"
      ]
    },
    {
      "attachments": {},
      "cell_type": "markdown",
      "metadata": {},
      "source": [
        "### Criação do modelo\n",
        "\n",
        "Nessa seção é criado o modelo de KNN com 3 vizinhos e é feito o treinamento do modelo."
      ]
    },
    {
      "cell_type": "code",
      "execution_count": 25,
      "metadata": {
        "colab": {
          "base_uri": "https://localhost:8080/"
        },
        "id": "5sGXRIInYuUx",
        "outputId": "76104084-23de-47d0-90f1-ee51056c6a81"
      },
      "outputs": [
        {
          "data": {
            "text/plain": [
              "KNeighborsClassifier(n_neighbors=3)"
            ]
          },
          "execution_count": 25,
          "metadata": {},
          "output_type": "execute_result"
        }
      ],
      "source": [
        "# Definindo a técnica a ser utilizada\n",
        "clf = KNeighborsClassifier(n_neighbors=3)\n",
        "\n",
        "# Treinando o modelo\n",
        "clf.fit(X_train, y_train)\n"
      ]
    },
    {
      "attachments": {},
      "cell_type": "markdown",
      "metadata": {},
      "source": [
        "### Predição\n",
        "\n",
        "Nessa seção é feita a predição dos dados de teste."
      ]
    },
    {
      "cell_type": "code",
      "execution_count": 26,
      "metadata": {},
      "outputs": [],
      "source": [
        "predictions = clf.predict(X_test)"
      ]
    },
    {
      "attachments": {},
      "cell_type": "markdown",
      "metadata": {},
      "source": [
        "### Resultados\n",
        "\n",
        "Nessa seção são apresentados os resultados obtidos."
      ]
    },
    {
      "cell_type": "code",
      "execution_count": 27,
      "metadata": {},
      "outputs": [],
      "source": [
        "matrix = confusion_matrix(y_test, predictions)"
      ]
    },
    {
      "cell_type": "code",
      "execution_count": 38,
      "metadata": {},
      "outputs": [],
      "source": [
        "(score, precision, recall) = evaluate(y_test, predictions)"
      ]
    },
    {
      "cell_type": "code",
      "execution_count": 40,
      "metadata": {},
      "outputs": [
        {
          "data": {
            "image/png": "[encoded data removed]",
            "text/plain": [
              "<Figure size 432x288 with 2 Axes>"
            ]
          },
          "metadata": {
            "needs_background": "light"
          },
          "output_type": "display_data"
        }
      ],
      "source": [
        "#plotando a matriz de confusão\n",
        "import matplotlib.pyplot as plt\n",
        "import seaborn as sns\n",
        "\n",
        "sns.heatmap(matrix, annot=True, square = True)\n",
        "\n",
        "plt.ylabel('Classe real')\n",
        "plt.xlabel('Classe prevista')\n",
        "\n",
        "title = 'Acurácia: {:.2f}%'.format(score*100)\n",
        "title += '\\nPrecisão: {:.2f}%'.format(precision*100)\n",
        "title += '\\nRecall: {:.2f}%'.format(recall*100)\n",
        "\n",
        "plt.title(title, size = 11)\n",
        "\n",
        "plt.show()"
      ]
    }
  ],
  "metadata": {
    "colab": {
      "collapsed_sections": [],
      "name": "Holdout.ipynb",
      "provenance": []
    },
    "kernelspec": {
      "display_name": "Python 3",
      "name": "python3"
    },
    "language_info": {
      "codemirror_mode": {
        "name": "ipython",
        "version": 3
      },
      "file_extension": ".py",
      "mimetype": "text/x-python",
      "name": "python",
      "nbconvert_exporter": "python",
      "pygments_lexer": "ipython3",
      "version": "3.8.12"
    }
  },
  "nbformat": 4,
  "nbformat_minor": 0
}
